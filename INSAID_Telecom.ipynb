{
  "nbformat": 4,
  "nbformat_minor": 0,
  "metadata": {
    "colab": {
      "name": "INSAID_Telecom.ipynb",
      "provenance": [],
      "collapsed_sections": [],
      "toc_visible": true,
      "authorship_tag": "ABX9TyMMII1ZY0sN2Jn5ZWOxP6Gt"
    },
    "kernelspec": {
      "name": "python3",
      "display_name": "Python 3"
    }
  },
  "cells": [
    {
      "cell_type": "markdown",
      "metadata": {
        "id": "3o0BIAUH9B4k",
        "colab_type": "text"
      },
      "source": [
        "Install MySql Connector. \n"
      ]
    },
    {
      "cell_type": "code",
      "metadata": {
        "id": "zcACKZCFElV1",
        "colab_type": "code",
        "colab": {
          "base_uri": "https://localhost:8080/",
          "height": 411
        },
        "outputId": "485cbc1b-4497-4903-90ba-0e04739a98f5"
      },
      "source": [
        "pip install mysql-connector-python"
      ],
      "execution_count": 3,
      "outputs": [
        {
          "output_type": "stream",
          "text": [
            "Collecting mysql-connector-python\n",
            "\u001b[?25l  Downloading https://files.pythonhosted.org/packages/d8/29/45c72a2292011816aab7f73e778872e79573a2ecc897592f7119ed802a82/mysql_connector_python-8.0.19-cp36-cp36m-manylinux1_x86_64.whl (14.7MB)\n",
            "\u001b[K     |████████████████████████████████| 14.7MB 75kB/s \n",
            "\u001b[?25hCollecting protobuf==3.6.1\n",
            "\u001b[?25l  Downloading https://files.pythonhosted.org/packages/c2/f9/28787754923612ca9bfdffc588daa05580ed70698add063a5629d1a4209d/protobuf-3.6.1-cp36-cp36m-manylinux1_x86_64.whl (1.1MB)\n",
            "\u001b[K     |████████████████████████████████| 1.1MB 38.7MB/s \n",
            "\u001b[?25hCollecting dnspython==1.16.0\n",
            "\u001b[?25l  Downloading https://files.pythonhosted.org/packages/ec/d3/3aa0e7213ef72b8585747aa0e271a9523e713813b9a20177ebe1e939deb0/dnspython-1.16.0-py2.py3-none-any.whl (188kB)\n",
            "\u001b[K     |████████████████████████████████| 194kB 49.3MB/s \n",
            "\u001b[?25hRequirement already satisfied: six>=1.9 in /usr/local/lib/python3.6/dist-packages (from protobuf==3.6.1->mysql-connector-python) (1.12.0)\n",
            "Requirement already satisfied: setuptools in /usr/local/lib/python3.6/dist-packages (from protobuf==3.6.1->mysql-connector-python) (45.1.0)\n",
            "\u001b[31mERROR: tensorflow-metadata 0.21.1 has requirement protobuf<4,>=3.7, but you'll have protobuf 3.6.1 which is incompatible.\u001b[0m\n",
            "Installing collected packages: protobuf, dnspython, mysql-connector-python\n",
            "  Found existing installation: protobuf 3.10.0\n",
            "    Uninstalling protobuf-3.10.0:\n",
            "      Successfully uninstalled protobuf-3.10.0\n",
            "Successfully installed dnspython-1.16.0 mysql-connector-python-8.0.19 protobuf-3.6.1\n"
          ],
          "name": "stdout"
        },
        {
          "output_type": "display_data",
          "data": {
            "application/vnd.colab-display-data+json": {
              "pip_warning": {
                "packages": [
                  "google"
                ]
              }
            }
          },
          "metadata": {
            "tags": []
          }
        }
      ]
    },
    {
      "cell_type": "markdown",
      "metadata": {
        "id": "3Tazc90TLdHo",
        "colab_type": "text"
      },
      "source": [
        "# Import required packages"
      ]
    },
    {
      "cell_type": "code",
      "metadata": {
        "id": "YbMPn_oeLidS",
        "colab_type": "code",
        "colab": {}
      },
      "source": [
        "import pandas as pd"
      ],
      "execution_count": 0,
      "outputs": []
    },
    {
      "cell_type": "markdown",
      "metadata": {
        "id": "pgiPUmPtK-F0",
        "colab_type": "text"
      },
      "source": [
        "# Retrieve data\n",
        "\n",
        "1.   Create MySql Connection\n",
        "2.   Retrieve data from all the required tables & store in a dataframe.\n",
        "3.   Close Connection\n",
        "\n",
        "\n",
        "\n",
        "\n"
      ]
    },
    {
      "cell_type": "code",
      "metadata": {
        "id": "cyO-R4Ct8Uvv",
        "colab_type": "code",
        "colab": {}
      },
      "source": [
        "import mysql.connector\n",
        "\n",
        "# Connect to server\n",
        "mysql_conn = mysql.connector.connect(\n",
        "    host='cpanel.insaid.co',\n",
        "    database='Capstone1',\n",
        "    user='student',\n",
        "    password='student')\n",
        "\n",
        "# Fetch events data result\n",
        "sql = \"SELECT * FROM events_data where state in ('WestBengal', 'Karnataka', 'Gujarat', 'Bihar', 'Punjab', 'Kerala')\"\n",
        "events_data = pd.read_sql(sql, con=mysql_conn)\n",
        "\n",
        "# Fetch gender result\n",
        "gender_age_train_full = pd.read_sql(\"SELECT * FROM gender_age_train\", con=mysql_conn)\n",
        "gender_age_train = pd.read_sql(\"SELECT * FROM gender_age_train where device_id in (SELECT distinct device_id FROM events_data where state in ('WestBengal', 'Karnataka', 'Gujarat', 'Bihar', 'Punjab', 'Kerala'))\", con=mysql_conn)\n",
        "\n",
        "# Fetch phone brand result\n",
        "phone_brand_device_model_full = pd.read_sql(\"SELECT * FROM phone_brand_device_model\", con=mysql_conn)\n",
        "phone_brand_device_model = pd.read_sql(\"SELECT * FROM phone_brand_device_model where device_id in (SELECT distinct device_id FROM events_data where state in ('WestBengal', 'Karnataka', 'Gujarat', 'Bihar', 'Punjab', 'Kerala'))\", con=mysql_conn)\n",
        "\n",
        "# Close connection\n",
        "mysql_conn.close()"
      ],
      "execution_count": 0,
      "outputs": []
    },
    {
      "cell_type": "markdown",
      "metadata": {
        "id": "XoiTt7iFF8kX",
        "colab_type": "text"
      },
      "source": [
        "gender_age_train - Devices and their respective user gender, age and age_group"
      ]
    },
    {
      "cell_type": "code",
      "metadata": {
        "id": "awBbMBCQFjb2",
        "colab_type": "code",
        "colab": {
          "base_uri": "https://localhost:8080/",
          "height": 170
        },
        "outputId": "25773af6-7485-4a84-d59d-bc3ab72ed58a"
      },
      "source": [
        "gender_age_train.info()"
      ],
      "execution_count": 27,
      "outputs": [
        {
          "output_type": "stream",
          "text": [
            "<class 'pandas.core.frame.DataFrame'>\n",
            "RangeIndex: 19032 entries, 0 to 19031\n",
            "Data columns (total 4 columns):\n",
            "device_id    19032 non-null int64\n",
            "gender       19032 non-null object\n",
            "age          19032 non-null int64\n",
            "group        19032 non-null object\n",
            "dtypes: int64(2), object(2)\n",
            "memory usage: 594.9+ KB\n"
          ],
          "name": "stdout"
        }
      ]
    },
    {
      "cell_type": "code",
      "metadata": {
        "id": "omvqAy0xYPeA",
        "colab_type": "code",
        "colab": {
          "base_uri": "https://localhost:8080/",
          "height": 102
        },
        "outputId": "98356cec-2b14-47f3-cc50-27b8746ccf9a"
      },
      "source": [
        "gender_age_train_full.isnull().any()"
      ],
      "execution_count": 38,
      "outputs": [
        {
          "output_type": "execute_result",
          "data": {
            "text/plain": [
              "device_id    False\n",
              "gender       False\n",
              "age          False\n",
              "group        False\n",
              "dtype: bool"
            ]
          },
          "metadata": {
            "tags": []
          },
          "execution_count": 38
        }
      ]
    },
    {
      "cell_type": "code",
      "metadata": {
        "id": "0ttQeWweIEVu",
        "colab_type": "code",
        "colab": {
          "base_uri": "https://localhost:8080/",
          "height": 221
        },
        "outputId": "ad315fb6-83a0-4317-82c5-e6453d18db5a"
      },
      "source": [
        "events_data.info()"
      ],
      "execution_count": 28,
      "outputs": [
        {
          "output_type": "stream",
          "text": [
            "<class 'pandas.core.frame.DataFrame'>\n",
            "RangeIndex: 422915 entries, 0 to 422914\n",
            "Data columns (total 7 columns):\n",
            "event_id     422915 non-null int64\n",
            "device_id    422867 non-null float64\n",
            "timestamp    422915 non-null datetime64[ns]\n",
            "longitude    422873 non-null float64\n",
            "latitude     422873 non-null float64\n",
            "city         422915 non-null object\n",
            "state        422915 non-null object\n",
            "dtypes: datetime64[ns](1), float64(3), int64(1), object(2)\n",
            "memory usage: 22.6+ MB\n"
          ],
          "name": "stdout"
        }
      ]
    },
    {
      "cell_type": "code",
      "metadata": {
        "id": "svvZ3vEoaJtm",
        "colab_type": "code",
        "colab": {
          "base_uri": "https://localhost:8080/",
          "height": 153
        },
        "outputId": "bd1a5d75-1915-4bca-aa37-fbcae40c6d37"
      },
      "source": [
        "events_data.isnull().any()"
      ],
      "execution_count": 42,
      "outputs": [
        {
          "output_type": "execute_result",
          "data": {
            "text/plain": [
              "event_id     False\n",
              "device_id     True\n",
              "timestamp    False\n",
              "longitude     True\n",
              "latitude      True\n",
              "city         False\n",
              "state        False\n",
              "dtype: bool"
            ]
          },
          "metadata": {
            "tags": []
          },
          "execution_count": 42
        }
      ]
    },
    {
      "cell_type": "code",
      "metadata": {
        "id": "JMYaKH3HwJb9",
        "colab_type": "code",
        "colab": {
          "base_uri": "https://localhost:8080/",
          "height": 153
        },
        "outputId": "5cd89e79-a99f-4f6f-fd49-95917af99172"
      },
      "source": [
        "events_data.isnull().sum()"
      ],
      "execution_count": 60,
      "outputs": [
        {
          "output_type": "execute_result",
          "data": {
            "text/plain": [
              "event_id      0\n",
              "device_id    48\n",
              "timestamp     0\n",
              "longitude    42\n",
              "latitude     42\n",
              "city          0\n",
              "state         0\n",
              "dtype: int64"
            ]
          },
          "metadata": {
            "tags": []
          },
          "execution_count": 60
        }
      ]
    },
    {
      "cell_type": "code",
      "metadata": {
        "id": "K7svBEDm4OFf",
        "colab_type": "code",
        "colab": {
          "base_uri": "https://localhost:8080/",
          "height": 153
        },
        "outputId": "dd6ec11a-682a-4abb-902a-e7e8c97a84e2"
      },
      "source": [
        "#missing data\n",
        "total = events_data.isnull().sum().sort_values(ascending=False)\n",
        "percent = (events_data.isnull().sum()/events_data.isnull().count()).sort_values(ascending=False)\n",
        "missing_data = pd.concat([total, percent], axis=1, keys=['Total', 'Percent'])\n",
        "missing_data.head(20)\n",
        "print(missing_data)"
      ],
      "execution_count": 78,
      "outputs": [
        {
          "output_type": "stream",
          "text": [
            "           Total   Percent\n",
            "device_id     48  0.000113\n",
            "latitude      42  0.000099\n",
            "longitude     42  0.000099\n",
            "state          0  0.000000\n",
            "city           0  0.000000\n",
            "timestamp      0  0.000000\n",
            "event_id       0  0.000000\n"
          ],
          "name": "stdout"
        }
      ]
    },
    {
      "cell_type": "code",
      "metadata": {
        "id": "EKfp1tMs4X3r",
        "colab_type": "code",
        "colab": {}
      },
      "source": [
        "# null values are not even 1% of total data\n",
        "events_data.dropna(inplace=True)"
      ],
      "execution_count": 0,
      "outputs": []
    },
    {
      "cell_type": "code",
      "metadata": {
        "id": "3uuK8KmIwZmF",
        "colab_type": "code",
        "colab": {
          "base_uri": "https://localhost:8080/",
          "height": 452
        },
        "outputId": "f4f64d2c-9c52-4a31-9771-7d34794b3135"
      },
      "source": [
        "events_data.describe(include='all')"
      ],
      "execution_count": 75,
      "outputs": [
        {
          "output_type": "execute_result",
          "data": {
            "text/html": [
              "<div>\n",
              "<style scoped>\n",
              "    .dataframe tbody tr th:only-of-type {\n",
              "        vertical-align: middle;\n",
              "    }\n",
              "\n",
              "    .dataframe tbody tr th {\n",
              "        vertical-align: top;\n",
              "    }\n",
              "\n",
              "    .dataframe thead th {\n",
              "        text-align: right;\n",
              "    }\n",
              "</style>\n",
              "<table border=\"1\" class=\"dataframe\">\n",
              "  <thead>\n",
              "    <tr style=\"text-align: right;\">\n",
              "      <th></th>\n",
              "      <th>event_id</th>\n",
              "      <th>device_id</th>\n",
              "      <th>timestamp</th>\n",
              "      <th>longitude</th>\n",
              "      <th>latitude</th>\n",
              "      <th>city</th>\n",
              "      <th>state</th>\n",
              "    </tr>\n",
              "  </thead>\n",
              "  <tbody>\n",
              "    <tr>\n",
              "      <th>count</th>\n",
              "      <td>4.229150e+05</td>\n",
              "      <td>4.228670e+05</td>\n",
              "      <td>422915</td>\n",
              "      <td>422873.000000</td>\n",
              "      <td>422873.000000</td>\n",
              "      <td>422915</td>\n",
              "      <td>422915</td>\n",
              "    </tr>\n",
              "    <tr>\n",
              "      <th>unique</th>\n",
              "      <td>NaN</td>\n",
              "      <td>NaN</td>\n",
              "      <td>290213</td>\n",
              "      <td>NaN</td>\n",
              "      <td>NaN</td>\n",
              "      <td>311</td>\n",
              "      <td>6</td>\n",
              "    </tr>\n",
              "    <tr>\n",
              "      <th>top</th>\n",
              "      <td>NaN</td>\n",
              "      <td>NaN</td>\n",
              "      <td>2016-05-05 10:39:01</td>\n",
              "      <td>NaN</td>\n",
              "      <td>NaN</td>\n",
              "      <td>Calcutta</td>\n",
              "      <td>WestBengal</td>\n",
              "    </tr>\n",
              "    <tr>\n",
              "      <th>freq</th>\n",
              "      <td>NaN</td>\n",
              "      <td>NaN</td>\n",
              "      <td>15</td>\n",
              "      <td>NaN</td>\n",
              "      <td>NaN</td>\n",
              "      <td>122381</td>\n",
              "      <td>196161</td>\n",
              "    </tr>\n",
              "    <tr>\n",
              "      <th>first</th>\n",
              "      <td>NaN</td>\n",
              "      <td>NaN</td>\n",
              "      <td>2016-04-30 23:52:24</td>\n",
              "      <td>NaN</td>\n",
              "      <td>NaN</td>\n",
              "      <td>NaN</td>\n",
              "      <td>NaN</td>\n",
              "    </tr>\n",
              "    <tr>\n",
              "      <th>last</th>\n",
              "      <td>NaN</td>\n",
              "      <td>NaN</td>\n",
              "      <td>2016-05-07 23:59:06</td>\n",
              "      <td>NaN</td>\n",
              "      <td>NaN</td>\n",
              "      <td>NaN</td>\n",
              "      <td>NaN</td>\n",
              "    </tr>\n",
              "    <tr>\n",
              "      <th>mean</th>\n",
              "      <td>1.635566e+06</td>\n",
              "      <td>5.512492e+16</td>\n",
              "      <td>NaN</td>\n",
              "      <td>82.334877</td>\n",
              "      <td>20.793032</td>\n",
              "      <td>NaN</td>\n",
              "      <td>NaN</td>\n",
              "    </tr>\n",
              "    <tr>\n",
              "      <th>std</th>\n",
              "      <td>9.309147e+05</td>\n",
              "      <td>5.330344e+18</td>\n",
              "      <td>NaN</td>\n",
              "      <td>6.381625</td>\n",
              "      <td>5.424515</td>\n",
              "      <td>NaN</td>\n",
              "      <td>NaN</td>\n",
              "    </tr>\n",
              "    <tr>\n",
              "      <th>min</th>\n",
              "      <td>2.088100e+04</td>\n",
              "      <td>-9.221066e+18</td>\n",
              "      <td>NaN</td>\n",
              "      <td>12.567400</td>\n",
              "      <td>8.412438</td>\n",
              "      <td>NaN</td>\n",
              "      <td>NaN</td>\n",
              "    </tr>\n",
              "    <tr>\n",
              "      <th>25%</th>\n",
              "      <td>8.229240e+05</td>\n",
              "      <td>-4.580846e+18</td>\n",
              "      <td>NaN</td>\n",
              "      <td>76.550598</td>\n",
              "      <td>15.204908</td>\n",
              "      <td>NaN</td>\n",
              "      <td>NaN</td>\n",
              "    </tr>\n",
              "    <tr>\n",
              "      <th>50%</th>\n",
              "      <td>1.632964e+06</td>\n",
              "      <td>1.262144e+17</td>\n",
              "      <td>NaN</td>\n",
              "      <td>85.519035</td>\n",
              "      <td>22.620470</td>\n",
              "      <td>NaN</td>\n",
              "      <td>NaN</td>\n",
              "    </tr>\n",
              "    <tr>\n",
              "      <th>75%</th>\n",
              "      <td>2.443410e+06</td>\n",
              "      <td>4.703286e+18</td>\n",
              "      <td>NaN</td>\n",
              "      <td>88.408051</td>\n",
              "      <td>23.104145</td>\n",
              "      <td>NaN</td>\n",
              "      <td>NaN</td>\n",
              "    </tr>\n",
              "    <tr>\n",
              "      <th>max</th>\n",
              "      <td>3.252946e+06</td>\n",
              "      <td>9.222849e+18</td>\n",
              "      <td>NaN</td>\n",
              "      <td>89.622070</td>\n",
              "      <td>41.871899</td>\n",
              "      <td>NaN</td>\n",
              "      <td>NaN</td>\n",
              "    </tr>\n",
              "  </tbody>\n",
              "</table>\n",
              "</div>"
            ],
            "text/plain": [
              "            event_id     device_id  ...      city       state\n",
              "count   4.229150e+05  4.228670e+05  ...    422915      422915\n",
              "unique           NaN           NaN  ...       311           6\n",
              "top              NaN           NaN  ...  Calcutta  WestBengal\n",
              "freq             NaN           NaN  ...    122381      196161\n",
              "first            NaN           NaN  ...       NaN         NaN\n",
              "last             NaN           NaN  ...       NaN         NaN\n",
              "mean    1.635566e+06  5.512492e+16  ...       NaN         NaN\n",
              "std     9.309147e+05  5.330344e+18  ...       NaN         NaN\n",
              "min     2.088100e+04 -9.221066e+18  ...       NaN         NaN\n",
              "25%     8.229240e+05 -4.580846e+18  ...       NaN         NaN\n",
              "50%     1.632964e+06  1.262144e+17  ...       NaN         NaN\n",
              "75%     2.443410e+06  4.703286e+18  ...       NaN         NaN\n",
              "max     3.252946e+06  9.222849e+18  ...       NaN         NaN\n",
              "\n",
              "[13 rows x 7 columns]"
            ]
          },
          "metadata": {
            "tags": []
          },
          "execution_count": 75
        }
      ]
    },
    {
      "cell_type": "code",
      "metadata": {
        "id": "3OYjXN-M1-Wg",
        "colab_type": "code",
        "colab": {
          "base_uri": "https://localhost:8080/",
          "height": 204
        },
        "outputId": "cb4b51fc-799e-4b3f-a807-24937b7c6c80"
      },
      "source": [
        "events_data.head()"
      ],
      "execution_count": 81,
      "outputs": [
        {
          "output_type": "execute_result",
          "data": {
            "text/html": [
              "<div>\n",
              "<style scoped>\n",
              "    .dataframe tbody tr th:only-of-type {\n",
              "        vertical-align: middle;\n",
              "    }\n",
              "\n",
              "    .dataframe tbody tr th {\n",
              "        vertical-align: top;\n",
              "    }\n",
              "\n",
              "    .dataframe thead th {\n",
              "        text-align: right;\n",
              "    }\n",
              "</style>\n",
              "<table border=\"1\" class=\"dataframe\">\n",
              "  <thead>\n",
              "    <tr style=\"text-align: right;\">\n",
              "      <th></th>\n",
              "      <th>event_id</th>\n",
              "      <th>device_id</th>\n",
              "      <th>timestamp</th>\n",
              "      <th>longitude</th>\n",
              "      <th>latitude</th>\n",
              "      <th>city</th>\n",
              "      <th>state</th>\n",
              "    </tr>\n",
              "  </thead>\n",
              "  <tbody>\n",
              "    <tr>\n",
              "      <th>0</th>\n",
              "      <td>74778</td>\n",
              "      <td>6.173131e+18</td>\n",
              "      <td>2016-05-01 08:02:02</td>\n",
              "      <td>88.397476</td>\n",
              "      <td>22.652161</td>\n",
              "      <td>Calcutta</td>\n",
              "      <td>WestBengal</td>\n",
              "    </tr>\n",
              "    <tr>\n",
              "      <th>1</th>\n",
              "      <td>527238</td>\n",
              "      <td>6.173131e+18</td>\n",
              "      <td>2016-05-02 21:03:22</td>\n",
              "      <td>88.397476</td>\n",
              "      <td>22.652161</td>\n",
              "      <td>Calcutta</td>\n",
              "      <td>WestBengal</td>\n",
              "    </tr>\n",
              "    <tr>\n",
              "      <th>2</th>\n",
              "      <td>1264753</td>\n",
              "      <td>6.173131e+18</td>\n",
              "      <td>2016-05-06 21:36:26</td>\n",
              "      <td>88.397476</td>\n",
              "      <td>22.652161</td>\n",
              "      <td>Calcutta</td>\n",
              "      <td>WestBengal</td>\n",
              "    </tr>\n",
              "    <tr>\n",
              "      <th>3</th>\n",
              "      <td>2252310</td>\n",
              "      <td>6.173131e+18</td>\n",
              "      <td>2016-05-03 23:02:19</td>\n",
              "      <td>88.397476</td>\n",
              "      <td>22.652161</td>\n",
              "      <td>Calcutta</td>\n",
              "      <td>WestBengal</td>\n",
              "    </tr>\n",
              "    <tr>\n",
              "      <th>4</th>\n",
              "      <td>2318262</td>\n",
              "      <td>6.173131e+18</td>\n",
              "      <td>2016-05-03 09:11:20</td>\n",
              "      <td>88.397476</td>\n",
              "      <td>22.652161</td>\n",
              "      <td>Calcutta</td>\n",
              "      <td>WestBengal</td>\n",
              "    </tr>\n",
              "  </tbody>\n",
              "</table>\n",
              "</div>"
            ],
            "text/plain": [
              "   event_id     device_id           timestamp  ...   latitude      city       state\n",
              "0     74778  6.173131e+18 2016-05-01 08:02:02  ...  22.652161  Calcutta  WestBengal\n",
              "1    527238  6.173131e+18 2016-05-02 21:03:22  ...  22.652161  Calcutta  WestBengal\n",
              "2   1264753  6.173131e+18 2016-05-06 21:36:26  ...  22.652161  Calcutta  WestBengal\n",
              "3   2252310  6.173131e+18 2016-05-03 23:02:19  ...  22.652161  Calcutta  WestBengal\n",
              "4   2318262  6.173131e+18 2016-05-03 09:11:20  ...  22.652161  Calcutta  WestBengal\n",
              "\n",
              "[5 rows x 7 columns]"
            ]
          },
          "metadata": {
            "tags": []
          },
          "execution_count": 81
        }
      ]
    },
    {
      "cell_type": "code",
      "metadata": {
        "id": "3XZ2RdboPRYk",
        "colab_type": "code",
        "colab": {
          "base_uri": "https://localhost:8080/",
          "height": 153
        },
        "outputId": "49973f82-0377-47c8-b937-53674f6eb8ca"
      },
      "source": [
        "phone_brand_device_model.info()"
      ],
      "execution_count": 29,
      "outputs": [
        {
          "output_type": "stream",
          "text": [
            "<class 'pandas.core.frame.DataFrame'>\n",
            "RangeIndex: 19032 entries, 0 to 19031\n",
            "Data columns (total 3 columns):\n",
            "device_id       19032 non-null int64\n",
            "phone_brand     19032 non-null object\n",
            "device_model    19032 non-null object\n",
            "dtypes: int64(1), object(2)\n",
            "memory usage: 446.2+ KB\n"
          ],
          "name": "stdout"
        }
      ]
    },
    {
      "cell_type": "code",
      "metadata": {
        "id": "f3yUEhejaBTm",
        "colab_type": "code",
        "colab": {
          "base_uri": "https://localhost:8080/",
          "height": 85
        },
        "outputId": "5c2c83ca-14c3-4eea-ad99-7993205fa1c2"
      },
      "source": [
        "phone_brand_device_model_full.isnull().any()"
      ],
      "execution_count": 39,
      "outputs": [
        {
          "output_type": "execute_result",
          "data": {
            "text/plain": [
              "device_id       False\n",
              "phone_brand     False\n",
              "device_model    False\n",
              "dtype: bool"
            ]
          },
          "metadata": {
            "tags": []
          },
          "execution_count": 39
        }
      ]
    },
    {
      "cell_type": "markdown",
      "metadata": {
        "id": "ywL9iPqtUZNi",
        "colab_type": "text"
      },
      "source": [
        "phone_brand_device_model - device ids, brand, and models phone_brand: note that few brands are in Chinese\n",
        "\n",
        "Brand Name\tBrand English Mapping\n",
        "'华为'\t'Huawei'\n",
        "'小米'\t'Xiaomi'\n",
        "'三星'\t'Samsung'\n",
        "'vivo'\t'vivo'\n",
        "'OPPO'\t'OPPO'\n",
        "'魅族'\t'Meizu'\n",
        "'酷派'\t'Coolpad'\n",
        "'乐视'\t'LeEco'\n",
        "'联想 '\t'Lenovo'\n",
        "'HTC'\t'HTC'"
      ]
    },
    {
      "cell_type": "code",
      "metadata": {
        "id": "1cVWWlVkU_Dn",
        "colab_type": "code",
        "colab": {
          "base_uri": "https://localhost:8080/",
          "height": 187
        },
        "outputId": "3404f4a0-a9fe-4aa5-f3cd-dd2e323476f2"
      },
      "source": [
        "phone_brand_device_model['phone_brand'].unique()"
      ],
      "execution_count": 31,
      "outputs": [
        {
          "output_type": "execute_result",
          "data": {
            "text/plain": [
              "array(['华为', '小米', '三星', 'LG', 'vivo', '欧比', 'OPPO', 'TCL', '酷派', 'HTC',\n",
              "       '联想 ', '魅族', '海信', '优米', '欧博信', '天语', '努比亚', '夏新', '奇酷', '锤子',\n",
              "       '酷比魔方', '语信', '朵唯', '德赛', '乐视', '一加', '华硕', '普耐尔', '易派', '摩托罗拉',\n",
              "       '优购', '酷珀', '梦米', '爱派尔', '昂达', 'LOGO', '邦华', '聆韵', '中国移动', 'ZUK',\n",
              "       '诺亚信', '酷比', '艾优尼', '斐讯', 'Lovme', '富可视', '欧新', '美图', '宝捷讯', '青橙',\n",
              "       '果米', '波导', '诺基亚', '神舟', '糯米', '亿通', '纽曼', '唯米', '百立丰', '沃普丰',\n",
              "       '虾米', '凯利通', '贝尔丰', '至尊宝', '蓝魔', '青葱', '白米', '大可乐', '尼比鲁', '康佳',\n",
              "       '乡米', '黑米', '海尔', '优语', '维图', '米歌', '广信', 'E派', '小杨树', '糖葫芦', '西米',\n",
              "       '谷歌', '长虹', '飞利浦', '惠普', '台电', '大Q', '鲜米', '先锋', 'PPTV', '欧奇'],\n",
              "      dtype=object)"
            ]
          },
          "metadata": {
            "tags": []
          },
          "execution_count": 31
        }
      ]
    },
    {
      "cell_type": "code",
      "metadata": {
        "id": "oAiMuy42eH8u",
        "colab_type": "code",
        "colab": {
          "base_uri": "https://localhost:8080/",
          "height": 204
        },
        "outputId": "a5980388-e3dd-4c9d-b8dd-186dff5389ee"
      },
      "source": [
        "phone_brand_device_model.head()"
      ],
      "execution_count": 44,
      "outputs": [
        {
          "output_type": "execute_result",
          "data": {
            "text/html": [
              "<div>\n",
              "<style scoped>\n",
              "    .dataframe tbody tr th:only-of-type {\n",
              "        vertical-align: middle;\n",
              "    }\n",
              "\n",
              "    .dataframe tbody tr th {\n",
              "        vertical-align: top;\n",
              "    }\n",
              "\n",
              "    .dataframe thead th {\n",
              "        text-align: right;\n",
              "    }\n",
              "</style>\n",
              "<table border=\"1\" class=\"dataframe\">\n",
              "  <thead>\n",
              "    <tr style=\"text-align: right;\">\n",
              "      <th></th>\n",
              "      <th>device_id</th>\n",
              "      <th>phone_brand</th>\n",
              "      <th>device_model</th>\n",
              "    </tr>\n",
              "  </thead>\n",
              "  <tbody>\n",
              "    <tr>\n",
              "      <th>0</th>\n",
              "      <td>176515041953473526</td>\n",
              "      <td>华为</td>\n",
              "      <td>G610S</td>\n",
              "    </tr>\n",
              "    <tr>\n",
              "      <th>1</th>\n",
              "      <td>-6876541075223249434</td>\n",
              "      <td>小米</td>\n",
              "      <td>MI 2</td>\n",
              "    </tr>\n",
              "    <tr>\n",
              "      <th>2</th>\n",
              "      <td>8026504930081700361</td>\n",
              "      <td>小米</td>\n",
              "      <td>MI 3</td>\n",
              "    </tr>\n",
              "    <tr>\n",
              "      <th>3</th>\n",
              "      <td>-7216269352973401877</td>\n",
              "      <td>小米</td>\n",
              "      <td>MI 2S</td>\n",
              "    </tr>\n",
              "    <tr>\n",
              "      <th>4</th>\n",
              "      <td>3444770318780911055</td>\n",
              "      <td>三星</td>\n",
              "      <td>Galaxy Note 2</td>\n",
              "    </tr>\n",
              "  </tbody>\n",
              "</table>\n",
              "</div>"
            ],
            "text/plain": [
              "             device_id phone_brand   device_model\n",
              "0   176515041953473526          华为          G610S\n",
              "1 -6876541075223249434          小米           MI 2\n",
              "2  8026504930081700361          小米           MI 3\n",
              "3 -7216269352973401877          小米          MI 2S\n",
              "4  3444770318780911055          三星  Galaxy Note 2"
            ]
          },
          "metadata": {
            "tags": []
          },
          "execution_count": 44
        }
      ]
    },
    {
      "cell_type": "code",
      "metadata": {
        "id": "ZoCcqABIdUr2",
        "colab_type": "code",
        "colab": {}
      },
      "source": [
        "brands_in_chinese = ['华为','小米','三星','魅族','酷派','乐视','联想 ','vivo','OPPO','HTC','LG','TCL','LOGO','Lovme','ZUK','PPTV','努比亚','海信','天语','夏新','欧比', '优米', '欧博信', '奇酷', '锤子', '酷比魔方', '语信', '朵唯', '德赛', '一加',\n",
        "       '华硕', '普耐尔', '易派', '摩托罗拉', '优购', '酷珀', '梦米', '爱派尔', '昂达', '邦华',\n",
        "       '聆韵', '中国移动', '诺亚信', '酷比', '艾优尼', '斐讯', '富可视', '欧新', '美图', '宝捷讯',\n",
        "       '青橙', '果米', '波导', '诺基亚', '神舟', '糯米', '亿通', '纽曼', '唯米', '百立丰',\n",
        "       '沃普丰', '虾米', '凯利通', '贝尔丰', '至尊宝', '蓝魔', '青葱', '白米', '大可乐', '尼比鲁',\n",
        "       '康佳', '乡米', '黑米', '海尔', '优语', '维图', '米歌', '广信', 'E派', '小杨树', '糖葫芦',\n",
        "       '西米', '谷歌', '长虹', '飞利浦', '惠普', '台电', '大Q', '鲜米', '先锋', '欧奇']\n",
        "brands_in_english = ['Huawei','Xiaomi','Samsung','Meizu','Coolpad','LeEco','Lenovo','vivo','OPPO','HTC','LG','TCL','LOGO','Lovme','ZUK','PPTV','Nubia','Hisense','Amagatarai','Amoi','Obi', 'Youmi', 'Obson', 'Qiku', 'Hammer', 'Cubei Cube', 'Letters', 'Duowei', 'Desai', 'One Plus','ASUS', 'Punale', 'Yipai', 'Motorola', 'Yougo', 'Cooper', 'Mengmi', 'Aipair', 'Onda', 'Banghua', 'Lingyun', 'China Mobile', 'Noah',' Coolby ',' Aiyouni ',' Feixun ',' Focus', 'Ou Xin', 'Meitu', 'Projet News','Green Orange', 'Fruit Rice', 'Flyer', 'Nokia', 'Shenzhou', 'Glutinous Rice', 'Yi Tong', 'Newman', 'Wei Mi', 'Bai Li Feng','Wopfung', 'Shrimp', 'Kellystone', 'Bellfonte', 'Extreme Treasure', 'Blue Devils', 'Scallion', 'White Rice', 'Big Cola', 'Nibiru','Kangjia', 'Xianmi', 'Black Rice', 'Haier', 'Youyu', 'Weitu', 'Mi Ge', 'Guangxin', 'E-Pay', 'Little Poplar', ' Candied ','Simi', 'Google', 'Changhong', 'Philips', 'HP', 'Taipower', 'Big Q', 'Fresh Rice', 'Pioneer', 'Ouqi']\n",
        "\n",
        "df2 = pd.DataFrame({'phone_brand':brands_in_chinese, 'phone_brand_english':brands_in_english})"
      ],
      "execution_count": 0,
      "outputs": []
    },
    {
      "cell_type": "code",
      "metadata": {
        "id": "hnetGzW4el3w",
        "colab_type": "code",
        "colab": {
          "base_uri": "https://localhost:8080/",
          "height": 204
        },
        "outputId": "33a14cb4-e1cf-4728-9758-28a61ea3e94b"
      },
      "source": [
        "df2.head()"
      ],
      "execution_count": 46,
      "outputs": [
        {
          "output_type": "execute_result",
          "data": {
            "text/html": [
              "<div>\n",
              "<style scoped>\n",
              "    .dataframe tbody tr th:only-of-type {\n",
              "        vertical-align: middle;\n",
              "    }\n",
              "\n",
              "    .dataframe tbody tr th {\n",
              "        vertical-align: top;\n",
              "    }\n",
              "\n",
              "    .dataframe thead th {\n",
              "        text-align: right;\n",
              "    }\n",
              "</style>\n",
              "<table border=\"1\" class=\"dataframe\">\n",
              "  <thead>\n",
              "    <tr style=\"text-align: right;\">\n",
              "      <th></th>\n",
              "      <th>phone_brand</th>\n",
              "      <th>phone_brand_english</th>\n",
              "    </tr>\n",
              "  </thead>\n",
              "  <tbody>\n",
              "    <tr>\n",
              "      <th>0</th>\n",
              "      <td>华为</td>\n",
              "      <td>Huawei</td>\n",
              "    </tr>\n",
              "    <tr>\n",
              "      <th>1</th>\n",
              "      <td>小米</td>\n",
              "      <td>Xiaomi</td>\n",
              "    </tr>\n",
              "    <tr>\n",
              "      <th>2</th>\n",
              "      <td>三星</td>\n",
              "      <td>Samsung</td>\n",
              "    </tr>\n",
              "    <tr>\n",
              "      <th>3</th>\n",
              "      <td>魅族</td>\n",
              "      <td>Meizu</td>\n",
              "    </tr>\n",
              "    <tr>\n",
              "      <th>4</th>\n",
              "      <td>酷派</td>\n",
              "      <td>Coolpad</td>\n",
              "    </tr>\n",
              "  </tbody>\n",
              "</table>\n",
              "</div>"
            ],
            "text/plain": [
              "  phone_brand phone_brand_english\n",
              "0          华为              Huawei\n",
              "1          小米              Xiaomi\n",
              "2          三星             Samsung\n",
              "3          魅族               Meizu\n",
              "4          酷派             Coolpad"
            ]
          },
          "metadata": {
            "tags": []
          },
          "execution_count": 46
        }
      ]
    },
    {
      "cell_type": "code",
      "metadata": {
        "id": "WsCI2QoheqaL",
        "colab_type": "code",
        "colab": {}
      },
      "source": [
        "phone_brand = phone_brand_device_model.merge(df2, how='left')"
      ],
      "execution_count": 0,
      "outputs": []
    },
    {
      "cell_type": "code",
      "metadata": {
        "id": "dZmxMaF2e1Cl",
        "colab_type": "code",
        "colab": {
          "base_uri": "https://localhost:8080/",
          "height": 170
        },
        "outputId": "30336cc3-1aa3-4d55-c73d-7956d3d43a52"
      },
      "source": [
        "phone_brand.info()"
      ],
      "execution_count": 73,
      "outputs": [
        {
          "output_type": "stream",
          "text": [
            "<class 'pandas.core.frame.DataFrame'>\n",
            "Int64Index: 19032 entries, 0 to 19031\n",
            "Data columns (total 4 columns):\n",
            "device_id              19032 non-null int64\n",
            "phone_brand            19032 non-null object\n",
            "device_model           19032 non-null object\n",
            "phone_brand_english    19032 non-null object\n",
            "dtypes: int64(1), object(3)\n",
            "memory usage: 743.4+ KB\n"
          ],
          "name": "stdout"
        }
      ]
    },
    {
      "cell_type": "code",
      "metadata": {
        "id": "HlroiXXU_CKY",
        "colab_type": "code",
        "colab": {
          "base_uri": "https://localhost:8080/",
          "height": 394
        },
        "outputId": "28f043d3-1258-482d-8100-73e9a42c620b"
      },
      "source": [
        "tele_data = events_data.merge(gender_age_train , on='device_id').merge(phone_brand, on='device_id')\n",
        "tele_data.head()"
      ],
      "execution_count": 84,
      "outputs": [
        {
          "output_type": "execute_result",
          "data": {
            "text/html": [
              "<div>\n",
              "<style scoped>\n",
              "    .dataframe tbody tr th:only-of-type {\n",
              "        vertical-align: middle;\n",
              "    }\n",
              "\n",
              "    .dataframe tbody tr th {\n",
              "        vertical-align: top;\n",
              "    }\n",
              "\n",
              "    .dataframe thead th {\n",
              "        text-align: right;\n",
              "    }\n",
              "</style>\n",
              "<table border=\"1\" class=\"dataframe\">\n",
              "  <thead>\n",
              "    <tr style=\"text-align: right;\">\n",
              "      <th></th>\n",
              "      <th>event_id</th>\n",
              "      <th>device_id</th>\n",
              "      <th>timestamp</th>\n",
              "      <th>longitude</th>\n",
              "      <th>latitude</th>\n",
              "      <th>city</th>\n",
              "      <th>state</th>\n",
              "      <th>gender</th>\n",
              "      <th>age</th>\n",
              "      <th>group</th>\n",
              "      <th>phone_brand</th>\n",
              "      <th>device_model</th>\n",
              "      <th>phone_brand_english</th>\n",
              "    </tr>\n",
              "  </thead>\n",
              "  <tbody>\n",
              "    <tr>\n",
              "      <th>0</th>\n",
              "      <td>76783</td>\n",
              "      <td>-6.822847e+18</td>\n",
              "      <td>2016-05-04 09:00:21</td>\n",
              "      <td>88.397728</td>\n",
              "      <td>22.605247</td>\n",
              "      <td>Calcutta</td>\n",
              "      <td>WestBengal</td>\n",
              "      <td>M</td>\n",
              "      <td>26</td>\n",
              "      <td>M23-26</td>\n",
              "      <td>小米</td>\n",
              "      <td>MI 3</td>\n",
              "      <td>Xiaomi</td>\n",
              "    </tr>\n",
              "    <tr>\n",
              "      <th>1</th>\n",
              "      <td>106517</td>\n",
              "      <td>-6.822847e+18</td>\n",
              "      <td>2016-05-05 19:57:16</td>\n",
              "      <td>88.397728</td>\n",
              "      <td>22.605247</td>\n",
              "      <td>Calcutta</td>\n",
              "      <td>WestBengal</td>\n",
              "      <td>M</td>\n",
              "      <td>26</td>\n",
              "      <td>M23-26</td>\n",
              "      <td>小米</td>\n",
              "      <td>MI 3</td>\n",
              "      <td>Xiaomi</td>\n",
              "    </tr>\n",
              "    <tr>\n",
              "      <th>2</th>\n",
              "      <td>118325</td>\n",
              "      <td>-6.822847e+18</td>\n",
              "      <td>2016-05-04 22:00:25</td>\n",
              "      <td>88.397728</td>\n",
              "      <td>22.605247</td>\n",
              "      <td>Calcutta</td>\n",
              "      <td>WestBengal</td>\n",
              "      <td>M</td>\n",
              "      <td>26</td>\n",
              "      <td>M23-26</td>\n",
              "      <td>小米</td>\n",
              "      <td>MI 3</td>\n",
              "      <td>Xiaomi</td>\n",
              "    </tr>\n",
              "    <tr>\n",
              "      <th>3</th>\n",
              "      <td>190375</td>\n",
              "      <td>-6.822847e+18</td>\n",
              "      <td>2016-05-06 03:34:38</td>\n",
              "      <td>88.397728</td>\n",
              "      <td>22.605247</td>\n",
              "      <td>Calcutta</td>\n",
              "      <td>WestBengal</td>\n",
              "      <td>M</td>\n",
              "      <td>26</td>\n",
              "      <td>M23-26</td>\n",
              "      <td>小米</td>\n",
              "      <td>MI 3</td>\n",
              "      <td>Xiaomi</td>\n",
              "    </tr>\n",
              "    <tr>\n",
              "      <th>4</th>\n",
              "      <td>213495</td>\n",
              "      <td>-6.822847e+18</td>\n",
              "      <td>2016-05-06 22:35:07</td>\n",
              "      <td>88.397728</td>\n",
              "      <td>22.605247</td>\n",
              "      <td>Calcutta</td>\n",
              "      <td>WestBengal</td>\n",
              "      <td>M</td>\n",
              "      <td>26</td>\n",
              "      <td>M23-26</td>\n",
              "      <td>小米</td>\n",
              "      <td>MI 3</td>\n",
              "      <td>Xiaomi</td>\n",
              "    </tr>\n",
              "  </tbody>\n",
              "</table>\n",
              "</div>"
            ],
            "text/plain": [
              "   event_id     device_id  ... device_model  phone_brand_english\n",
              "0     76783 -6.822847e+18  ...         MI 3               Xiaomi\n",
              "1    106517 -6.822847e+18  ...         MI 3               Xiaomi\n",
              "2    118325 -6.822847e+18  ...         MI 3               Xiaomi\n",
              "3    190375 -6.822847e+18  ...         MI 3               Xiaomi\n",
              "4    213495 -6.822847e+18  ...         MI 3               Xiaomi\n",
              "\n",
              "[5 rows x 13 columns]"
            ]
          },
          "metadata": {
            "tags": []
          },
          "execution_count": 84
        }
      ]
    }
  ]
}