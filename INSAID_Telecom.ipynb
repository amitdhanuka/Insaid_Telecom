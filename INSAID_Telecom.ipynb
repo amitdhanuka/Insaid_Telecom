{
  "nbformat": 4,
  "nbformat_minor": 0,
  "metadata": {
    "colab": {
      "name": "INSAID_Telecom.ipynb",
      "provenance": [],
      "collapsed_sections": [],
      "toc_visible": true,
      "authorship_tag": "ABX9TyOkqEnYIISudL244U9kr3zz"
    },
    "kernelspec": {
      "name": "python3",
      "display_name": "Python 3"
    }
  },
  "cells": [
    {
      "cell_type": "markdown",
      "metadata": {
        "id": "3o0BIAUH9B4k",
        "colab_type": "text"
      },
      "source": [
        "Install MySql Connector. \n"
      ]
    },
    {
      "cell_type": "code",
      "metadata": {
        "id": "zcACKZCFElV1",
        "colab_type": "code",
        "colab": {}
      },
      "source": [
        "#pip install mysql-connector-python"
      ],
      "execution_count": 0,
      "outputs": []
    },
    {
      "cell_type": "markdown",
      "metadata": {
        "id": "3Tazc90TLdHo",
        "colab_type": "text"
      },
      "source": [
        "# Import required packages"
      ]
    },
    {
      "cell_type": "code",
      "metadata": {
        "id": "YbMPn_oeLidS",
        "colab_type": "code",
        "colab": {}
      },
      "source": [
        "import mysql.connector\n",
        "import pandas as pd"
      ],
      "execution_count": 0,
      "outputs": []
    },
    {
      "cell_type": "markdown",
      "metadata": {
        "id": "pgiPUmPtK-F0",
        "colab_type": "text"
      },
      "source": [
        "# Retrieve data\n",
        "\n",
        "1.   Create MySql Connection\n",
        "2.   Retrieve data from all the required tables & store in a dataframe.\n",
        "3.   Close Connection\n",
        "\n",
        "\n",
        "\n",
        "\n"
      ]
    },
    {
      "cell_type": "code",
      "metadata": {
        "id": "nmHOTF1Q1FO6",
        "colab_type": "code",
        "colab": {}
      },
      "source": [
        "def connect_db():\n",
        "    return mysql.connector.connect(\n",
        "        host='cpanel.insaid.co',\n",
        "        database='Capstone1',\n",
        "        user='student',\n",
        "        password='student',\n",
        "        connect_timeout=1000000,\n",
        "        buffered=True\n",
        "    )"
      ],
      "execution_count": 0,
      "outputs": []
    },
    {
      "cell_type": "code",
      "metadata": {
        "id": "M0W0yiPr1VDp",
        "colab_type": "code",
        "colab": {}
      },
      "source": [
        "def execute_query(query, connection):\n",
        "    df = pd.read_sql(query, con = connection)\n",
        "    return df"
      ],
      "execution_count": 0,
      "outputs": []
    },
    {
      "cell_type": "code",
      "metadata": {
        "id": "MtEuz4rs1cQu",
        "colab_type": "code",
        "colab": {}
      },
      "source": [
        "def get_data(query):\n",
        "    df = pd.DataFrame()\n",
        "    try:\n",
        "        db_connection = connect_db()\n",
        "    \n",
        "        if db_connection.is_connected():\n",
        "            df = execute_query(query, db_connection)\n",
        "    \n",
        "    except Error as e:\n",
        "        print(\"Error while connecting to MySQL\", e)\n",
        "        print(\"Error code:\", e.errno)\n",
        "        print(\"Error message:\", e.msg)\n",
        "    finally:\n",
        "        if (db_connection.is_connected()):            \n",
        "            db_connection.close()\n",
        "            print(\"MySQL connection is closed\")\n",
        "    \n",
        "    return df"
      ],
      "execution_count": 0,
      "outputs": []
    },
    {
      "cell_type": "code",
      "metadata": {
        "id": "RoZgIuBz1itj",
        "colab_type": "code",
        "colab": {
          "base_uri": "https://localhost:8080/",
          "height": 102
        },
        "outputId": "3a6eb502-9c92-4243-cb05-3666b2a652ea"
      },
      "source": [
        "# Fetch events data result\n",
        "sql = \"SELECT * FROM events_data where state in ('WestBengal', 'Karnataka', 'Gujarat', 'Bihar', 'Punjab', 'Kerala')\"\n",
        "events_data = get_data(sql)\n",
        "\n",
        "# Fetch gender result\n",
        "gender_age_train_full = events_data = get_data(\"SELECT * FROM gender_age_train\")\n",
        "gender_age_train = events_data = get_data(\"SELECT * FROM gender_age_train where device_id in (SELECT distinct device_id FROM events_data where state in ('WestBengal', 'Karnataka', 'Gujarat', 'Bihar', 'Punjab', 'Kerala'))\")\n",
        "\n",
        "# Fetch phone brand result\n",
        "phone_brand_device_model_full = get_data(\"SELECT * FROM phone_brand_device_model\")\n",
        "phone_brand_device_model = get_data(\"SELECT * FROM phone_brand_device_model where device_id in (SELECT distinct device_id FROM events_data where state in ('WestBengal', 'Karnataka', 'Gujarat', 'Bihar', 'Punjab', 'Kerala'))\")\n"
      ],
      "execution_count": 9,
      "outputs": [
        {
          "output_type": "stream",
          "text": [
            "MySQL connection is closed\n",
            "MySQL connection is closed\n",
            "MySQL connection is closed\n",
            "MySQL connection is closed\n",
            "MySQL connection is closed\n"
          ],
          "name": "stdout"
        }
      ]
    },
    {
      "cell_type": "markdown",
      "metadata": {
        "id": "XoiTt7iFF8kX",
        "colab_type": "text"
      },
      "source": [
        "gender_age_train - Devices and their respective user gender, age and age_group"
      ]
    },
    {
      "cell_type": "code",
      "metadata": {
        "id": "awBbMBCQFjb2",
        "colab_type": "code",
        "colab": {
          "base_uri": "https://localhost:8080/",
          "height": 170
        },
        "outputId": "7bf2ece0-797b-43f6-a705-9e0b4a0877de"
      },
      "source": [
        "gender_age_train.info()"
      ],
      "execution_count": 11,
      "outputs": [
        {
          "output_type": "stream",
          "text": [
            "<class 'pandas.core.frame.DataFrame'>\n",
            "RangeIndex: 19032 entries, 0 to 19031\n",
            "Data columns (total 4 columns):\n",
            "device_id    19032 non-null int64\n",
            "gender       19032 non-null object\n",
            "age          19032 non-null int64\n",
            "group        19032 non-null object\n",
            "dtypes: int64(2), object(2)\n",
            "memory usage: 594.9+ KB\n"
          ],
          "name": "stdout"
        }
      ]
    },
    {
      "cell_type": "code",
      "metadata": {
        "id": "omvqAy0xYPeA",
        "colab_type": "code",
        "colab": {
          "base_uri": "https://localhost:8080/",
          "height": 102
        },
        "outputId": "dab5341f-6d92-44e3-f598-a4e8c88dab13"
      },
      "source": [
        "gender_age_train_full.isnull().any()"
      ],
      "execution_count": 12,
      "outputs": [
        {
          "output_type": "execute_result",
          "data": {
            "text/plain": [
              "device_id    False\n",
              "gender       False\n",
              "age          False\n",
              "group        False\n",
              "dtype: bool"
            ]
          },
          "metadata": {
            "tags": []
          },
          "execution_count": 12
        }
      ]
    },
    {
      "cell_type": "code",
      "metadata": {
        "id": "0ttQeWweIEVu",
        "colab_type": "code",
        "colab": {
          "base_uri": "https://localhost:8080/",
          "height": 170
        },
        "outputId": "5f787971-779d-41cb-d8e8-4996eafaf3db"
      },
      "source": [
        "events_data.info()"
      ],
      "execution_count": 13,
      "outputs": [
        {
          "output_type": "stream",
          "text": [
            "<class 'pandas.core.frame.DataFrame'>\n",
            "RangeIndex: 19032 entries, 0 to 19031\n",
            "Data columns (total 4 columns):\n",
            "device_id    19032 non-null int64\n",
            "gender       19032 non-null object\n",
            "age          19032 non-null int64\n",
            "group        19032 non-null object\n",
            "dtypes: int64(2), object(2)\n",
            "memory usage: 594.9+ KB\n"
          ],
          "name": "stdout"
        }
      ]
    },
    {
      "cell_type": "code",
      "metadata": {
        "id": "svvZ3vEoaJtm",
        "colab_type": "code",
        "colab": {
          "base_uri": "https://localhost:8080/",
          "height": 102
        },
        "outputId": "6d4579cf-229d-4951-b0e4-d644fe275db7"
      },
      "source": [
        "events_data.isnull().any()"
      ],
      "execution_count": 14,
      "outputs": [
        {
          "output_type": "execute_result",
          "data": {
            "text/plain": [
              "device_id    False\n",
              "gender       False\n",
              "age          False\n",
              "group        False\n",
              "dtype: bool"
            ]
          },
          "metadata": {
            "tags": []
          },
          "execution_count": 14
        }
      ]
    },
    {
      "cell_type": "code",
      "metadata": {
        "id": "JMYaKH3HwJb9",
        "colab_type": "code",
        "colab": {
          "base_uri": "https://localhost:8080/",
          "height": 102
        },
        "outputId": "66be5bea-eb38-47a0-de40-e4e417e7710c"
      },
      "source": [
        "events_data.isnull().sum()"
      ],
      "execution_count": 15,
      "outputs": [
        {
          "output_type": "execute_result",
          "data": {
            "text/plain": [
              "device_id    0\n",
              "gender       0\n",
              "age          0\n",
              "group        0\n",
              "dtype: int64"
            ]
          },
          "metadata": {
            "tags": []
          },
          "execution_count": 15
        }
      ]
    },
    {
      "cell_type": "code",
      "metadata": {
        "id": "K7svBEDm4OFf",
        "colab_type": "code",
        "colab": {
          "base_uri": "https://localhost:8080/",
          "height": 102
        },
        "outputId": "42f47025-3a15-4e6d-ddc3-8e5e3341f30f"
      },
      "source": [
        "#missing data\n",
        "total = events_data.isnull().sum().sort_values(ascending=False)\n",
        "percent = (events_data.isnull().sum()/events_data.isnull().count()).sort_values(ascending=False)\n",
        "missing_data = pd.concat([total, percent], axis=1, keys=['Total', 'Percent'])\n",
        "missing_data.head(20)\n",
        "print(missing_data)"
      ],
      "execution_count": 16,
      "outputs": [
        {
          "output_type": "stream",
          "text": [
            "           Total  Percent\n",
            "group          0      0.0\n",
            "age            0      0.0\n",
            "gender         0      0.0\n",
            "device_id      0      0.0\n"
          ],
          "name": "stdout"
        }
      ]
    },
    {
      "cell_type": "code",
      "metadata": {
        "id": "EKfp1tMs4X3r",
        "colab_type": "code",
        "colab": {}
      },
      "source": [
        "# null values are not even 1% of total data\n",
        "events_data.dropna(inplace=True)"
      ],
      "execution_count": 0,
      "outputs": []
    },
    {
      "cell_type": "code",
      "metadata": {
        "id": "3uuK8KmIwZmF",
        "colab_type": "code",
        "colab": {
          "base_uri": "https://localhost:8080/",
          "height": 390
        },
        "outputId": "ea84ce86-e2b2-4514-de55-522092cfd5e6"
      },
      "source": [
        "events_data.describe(include='all')"
      ],
      "execution_count": 18,
      "outputs": [
        {
          "output_type": "execute_result",
          "data": {
            "text/html": [
              "<div>\n",
              "<style scoped>\n",
              "    .dataframe tbody tr th:only-of-type {\n",
              "        vertical-align: middle;\n",
              "    }\n",
              "\n",
              "    .dataframe tbody tr th {\n",
              "        vertical-align: top;\n",
              "    }\n",
              "\n",
              "    .dataframe thead th {\n",
              "        text-align: right;\n",
              "    }\n",
              "</style>\n",
              "<table border=\"1\" class=\"dataframe\">\n",
              "  <thead>\n",
              "    <tr style=\"text-align: right;\">\n",
              "      <th></th>\n",
              "      <th>device_id</th>\n",
              "      <th>gender</th>\n",
              "      <th>age</th>\n",
              "      <th>group</th>\n",
              "    </tr>\n",
              "  </thead>\n",
              "  <tbody>\n",
              "    <tr>\n",
              "      <th>count</th>\n",
              "      <td>1.903200e+04</td>\n",
              "      <td>19032</td>\n",
              "      <td>19032.000000</td>\n",
              "      <td>19032</td>\n",
              "    </tr>\n",
              "    <tr>\n",
              "      <th>unique</th>\n",
              "      <td>NaN</td>\n",
              "      <td>2</td>\n",
              "      <td>NaN</td>\n",
              "      <td>12</td>\n",
              "    </tr>\n",
              "    <tr>\n",
              "      <th>top</th>\n",
              "      <td>NaN</td>\n",
              "      <td>M</td>\n",
              "      <td>NaN</td>\n",
              "      <td>M32-38</td>\n",
              "    </tr>\n",
              "    <tr>\n",
              "      <th>freq</th>\n",
              "      <td>NaN</td>\n",
              "      <td>12152</td>\n",
              "      <td>NaN</td>\n",
              "      <td>2433</td>\n",
              "    </tr>\n",
              "    <tr>\n",
              "      <th>mean</th>\n",
              "      <td>4.881698e+16</td>\n",
              "      <td>NaN</td>\n",
              "      <td>31.498371</td>\n",
              "      <td>NaN</td>\n",
              "    </tr>\n",
              "    <tr>\n",
              "      <th>std</th>\n",
              "      <td>5.336355e+18</td>\n",
              "      <td>NaN</td>\n",
              "      <td>9.867969</td>\n",
              "      <td>NaN</td>\n",
              "    </tr>\n",
              "    <tr>\n",
              "      <th>min</th>\n",
              "      <td>-9.221066e+18</td>\n",
              "      <td>NaN</td>\n",
              "      <td>11.000000</td>\n",
              "      <td>NaN</td>\n",
              "    </tr>\n",
              "    <tr>\n",
              "      <th>25%</th>\n",
              "      <td>-4.549678e+18</td>\n",
              "      <td>NaN</td>\n",
              "      <td>25.000000</td>\n",
              "      <td>NaN</td>\n",
              "    </tr>\n",
              "    <tr>\n",
              "      <th>50%</th>\n",
              "      <td>6.706378e+16</td>\n",
              "      <td>NaN</td>\n",
              "      <td>29.000000</td>\n",
              "      <td>NaN</td>\n",
              "    </tr>\n",
              "    <tr>\n",
              "      <th>75%</th>\n",
              "      <td>4.704435e+18</td>\n",
              "      <td>NaN</td>\n",
              "      <td>36.000000</td>\n",
              "      <td>NaN</td>\n",
              "    </tr>\n",
              "    <tr>\n",
              "      <th>max</th>\n",
              "      <td>9.222849e+18</td>\n",
              "      <td>NaN</td>\n",
              "      <td>88.000000</td>\n",
              "      <td>NaN</td>\n",
              "    </tr>\n",
              "  </tbody>\n",
              "</table>\n",
              "</div>"
            ],
            "text/plain": [
              "           device_id gender           age   group\n",
              "count   1.903200e+04  19032  19032.000000   19032\n",
              "unique           NaN      2           NaN      12\n",
              "top              NaN      M           NaN  M32-38\n",
              "freq             NaN  12152           NaN    2433\n",
              "mean    4.881698e+16    NaN     31.498371     NaN\n",
              "std     5.336355e+18    NaN      9.867969     NaN\n",
              "min    -9.221066e+18    NaN     11.000000     NaN\n",
              "25%    -4.549678e+18    NaN     25.000000     NaN\n",
              "50%     6.706378e+16    NaN     29.000000     NaN\n",
              "75%     4.704435e+18    NaN     36.000000     NaN\n",
              "max     9.222849e+18    NaN     88.000000     NaN"
            ]
          },
          "metadata": {
            "tags": []
          },
          "execution_count": 18
        }
      ]
    },
    {
      "cell_type": "code",
      "metadata": {
        "id": "3OYjXN-M1-Wg",
        "colab_type": "code",
        "colab": {
          "base_uri": "https://localhost:8080/",
          "height": 204
        },
        "outputId": "0b549910-5875-40ef-990a-ccf168c5e2b8"
      },
      "source": [
        "events_data.head()"
      ],
      "execution_count": 19,
      "outputs": [
        {
          "output_type": "execute_result",
          "data": {
            "text/html": [
              "<div>\n",
              "<style scoped>\n",
              "    .dataframe tbody tr th:only-of-type {\n",
              "        vertical-align: middle;\n",
              "    }\n",
              "\n",
              "    .dataframe tbody tr th {\n",
              "        vertical-align: top;\n",
              "    }\n",
              "\n",
              "    .dataframe thead th {\n",
              "        text-align: right;\n",
              "    }\n",
              "</style>\n",
              "<table border=\"1\" class=\"dataframe\">\n",
              "  <thead>\n",
              "    <tr style=\"text-align: right;\">\n",
              "      <th></th>\n",
              "      <th>device_id</th>\n",
              "      <th>gender</th>\n",
              "      <th>age</th>\n",
              "      <th>group</th>\n",
              "    </tr>\n",
              "  </thead>\n",
              "  <tbody>\n",
              "    <tr>\n",
              "      <th>0</th>\n",
              "      <td>-8076087639492063270</td>\n",
              "      <td>M</td>\n",
              "      <td>35</td>\n",
              "      <td>M32-38</td>\n",
              "    </tr>\n",
              "    <tr>\n",
              "      <th>1</th>\n",
              "      <td>176515041953473526</td>\n",
              "      <td>M</td>\n",
              "      <td>33</td>\n",
              "      <td>M32-38</td>\n",
              "    </tr>\n",
              "    <tr>\n",
              "      <th>2</th>\n",
              "      <td>9032155484127182494</td>\n",
              "      <td>M</td>\n",
              "      <td>31</td>\n",
              "      <td>M29-31</td>\n",
              "    </tr>\n",
              "    <tr>\n",
              "      <th>3</th>\n",
              "      <td>7477216237379271436</td>\n",
              "      <td>F</td>\n",
              "      <td>37</td>\n",
              "      <td>F33-42</td>\n",
              "    </tr>\n",
              "    <tr>\n",
              "      <th>4</th>\n",
              "      <td>-6876541075223249434</td>\n",
              "      <td>M</td>\n",
              "      <td>75</td>\n",
              "      <td>M39+</td>\n",
              "    </tr>\n",
              "  </tbody>\n",
              "</table>\n",
              "</div>"
            ],
            "text/plain": [
              "             device_id gender  age   group\n",
              "0 -8076087639492063270      M   35  M32-38\n",
              "1   176515041953473526      M   33  M32-38\n",
              "2  9032155484127182494      M   31  M29-31\n",
              "3  7477216237379271436      F   37  F33-42\n",
              "4 -6876541075223249434      M   75    M39+"
            ]
          },
          "metadata": {
            "tags": []
          },
          "execution_count": 19
        }
      ]
    },
    {
      "cell_type": "code",
      "metadata": {
        "id": "3XZ2RdboPRYk",
        "colab_type": "code",
        "colab": {
          "base_uri": "https://localhost:8080/",
          "height": 153
        },
        "outputId": "74522f62-12fc-4dc7-d82b-f604912e5902"
      },
      "source": [
        "phone_brand_device_model.info()"
      ],
      "execution_count": 20,
      "outputs": [
        {
          "output_type": "stream",
          "text": [
            "<class 'pandas.core.frame.DataFrame'>\n",
            "RangeIndex: 19032 entries, 0 to 19031\n",
            "Data columns (total 3 columns):\n",
            "device_id       19032 non-null int64\n",
            "phone_brand     19032 non-null object\n",
            "device_model    19032 non-null object\n",
            "dtypes: int64(1), object(2)\n",
            "memory usage: 446.2+ KB\n"
          ],
          "name": "stdout"
        }
      ]
    },
    {
      "cell_type": "code",
      "metadata": {
        "id": "f3yUEhejaBTm",
        "colab_type": "code",
        "colab": {
          "base_uri": "https://localhost:8080/",
          "height": 85
        },
        "outputId": "a096cfba-4cb0-4592-eeb8-26219db339c9"
      },
      "source": [
        "phone_brand_device_model_full.isnull().any()"
      ],
      "execution_count": 21,
      "outputs": [
        {
          "output_type": "execute_result",
          "data": {
            "text/plain": [
              "device_id       False\n",
              "phone_brand     False\n",
              "device_model    False\n",
              "dtype: bool"
            ]
          },
          "metadata": {
            "tags": []
          },
          "execution_count": 21
        }
      ]
    },
    {
      "cell_type": "markdown",
      "metadata": {
        "id": "ywL9iPqtUZNi",
        "colab_type": "text"
      },
      "source": [
        "phone_brand_device_model - device ids, brand, and models phone_brand: note that few brands are in Chinese\n",
        "\n",
        "Brand Name\tBrand English Mapping\n",
        "'华为'\t'Huawei'\n",
        "'小米'\t'Xiaomi'\n",
        "'三星'\t'Samsung'\n",
        "'vivo'\t'vivo'\n",
        "'OPPO'\t'OPPO'\n",
        "'魅族'\t'Meizu'\n",
        "'酷派'\t'Coolpad'\n",
        "'乐视'\t'LeEco'\n",
        "'联想 '\t'Lenovo'\n",
        "'HTC'\t'HTC'"
      ]
    },
    {
      "cell_type": "code",
      "metadata": {
        "id": "1cVWWlVkU_Dn",
        "colab_type": "code",
        "colab": {
          "base_uri": "https://localhost:8080/",
          "height": 187
        },
        "outputId": "0ef740cb-bdb4-439b-85dc-4dd70ab64154"
      },
      "source": [
        "phone_brand_device_model['phone_brand'].unique()"
      ],
      "execution_count": 22,
      "outputs": [
        {
          "output_type": "execute_result",
          "data": {
            "text/plain": [
              "array(['华为', '小米', '三星', 'LG', 'vivo', '欧比', 'OPPO', 'TCL', '酷派', 'HTC',\n",
              "       '联想 ', '魅族', '海信', '优米', '欧博信', '天语', '努比亚', '夏新', '奇酷', '锤子',\n",
              "       '酷比魔方', '语信', '朵唯', '德赛', '乐视', '一加', '华硕', '普耐尔', '易派', '摩托罗拉',\n",
              "       '优购', '酷珀', '梦米', '爱派尔', '昂达', 'LOGO', '邦华', '聆韵', '中国移动', 'ZUK',\n",
              "       '诺亚信', '酷比', '艾优尼', '斐讯', 'Lovme', '富可视', '欧新', '美图', '宝捷讯', '青橙',\n",
              "       '果米', '波导', '诺基亚', '神舟', '糯米', '亿通', '纽曼', '唯米', '百立丰', '沃普丰',\n",
              "       '虾米', '凯利通', '贝尔丰', '至尊宝', '蓝魔', '青葱', '白米', '大可乐', '尼比鲁', '康佳',\n",
              "       '乡米', '黑米', '海尔', '优语', '维图', '米歌', '广信', 'E派', '小杨树', '糖葫芦', '西米',\n",
              "       '谷歌', '长虹', '飞利浦', '惠普', '台电', '大Q', '鲜米', '先锋', 'PPTV', '欧奇'],\n",
              "      dtype=object)"
            ]
          },
          "metadata": {
            "tags": []
          },
          "execution_count": 22
        }
      ]
    },
    {
      "cell_type": "code",
      "metadata": {
        "id": "oAiMuy42eH8u",
        "colab_type": "code",
        "colab": {
          "base_uri": "https://localhost:8080/",
          "height": 204
        },
        "outputId": "73e5f207-ddd3-4932-da23-7928a1f9f077"
      },
      "source": [
        "phone_brand_device_model.head()"
      ],
      "execution_count": 23,
      "outputs": [
        {
          "output_type": "execute_result",
          "data": {
            "text/html": [
              "<div>\n",
              "<style scoped>\n",
              "    .dataframe tbody tr th:only-of-type {\n",
              "        vertical-align: middle;\n",
              "    }\n",
              "\n",
              "    .dataframe tbody tr th {\n",
              "        vertical-align: top;\n",
              "    }\n",
              "\n",
              "    .dataframe thead th {\n",
              "        text-align: right;\n",
              "    }\n",
              "</style>\n",
              "<table border=\"1\" class=\"dataframe\">\n",
              "  <thead>\n",
              "    <tr style=\"text-align: right;\">\n",
              "      <th></th>\n",
              "      <th>device_id</th>\n",
              "      <th>phone_brand</th>\n",
              "      <th>device_model</th>\n",
              "    </tr>\n",
              "  </thead>\n",
              "  <tbody>\n",
              "    <tr>\n",
              "      <th>0</th>\n",
              "      <td>176515041953473526</td>\n",
              "      <td>华为</td>\n",
              "      <td>G610S</td>\n",
              "    </tr>\n",
              "    <tr>\n",
              "      <th>1</th>\n",
              "      <td>-6876541075223249434</td>\n",
              "      <td>小米</td>\n",
              "      <td>MI 2</td>\n",
              "    </tr>\n",
              "    <tr>\n",
              "      <th>2</th>\n",
              "      <td>8026504930081700361</td>\n",
              "      <td>小米</td>\n",
              "      <td>MI 3</td>\n",
              "    </tr>\n",
              "    <tr>\n",
              "      <th>3</th>\n",
              "      <td>-7216269352973401877</td>\n",
              "      <td>小米</td>\n",
              "      <td>MI 2S</td>\n",
              "    </tr>\n",
              "    <tr>\n",
              "      <th>4</th>\n",
              "      <td>3444770318780911055</td>\n",
              "      <td>三星</td>\n",
              "      <td>Galaxy Note 2</td>\n",
              "    </tr>\n",
              "  </tbody>\n",
              "</table>\n",
              "</div>"
            ],
            "text/plain": [
              "             device_id phone_brand   device_model\n",
              "0   176515041953473526          华为          G610S\n",
              "1 -6876541075223249434          小米           MI 2\n",
              "2  8026504930081700361          小米           MI 3\n",
              "3 -7216269352973401877          小米          MI 2S\n",
              "4  3444770318780911055          三星  Galaxy Note 2"
            ]
          },
          "metadata": {
            "tags": []
          },
          "execution_count": 23
        }
      ]
    },
    {
      "cell_type": "code",
      "metadata": {
        "id": "ZoCcqABIdUr2",
        "colab_type": "code",
        "colab": {}
      },
      "source": [
        "brands_in_chinese = ['华为','小米','三星','魅族','酷派','乐视','联想 ','vivo','OPPO','HTC','LG','TCL','LOGO','Lovme','ZUK','PPTV','努比亚','海信','天语','夏新','欧比', '优米', '欧博信', '奇酷', '锤子', '酷比魔方', '语信', '朵唯', '德赛', '一加',\n",
        "       '华硕', '普耐尔', '易派', '摩托罗拉', '优购', '酷珀', '梦米', '爱派尔', '昂达', '邦华',\n",
        "       '聆韵', '中国移动', '诺亚信', '酷比', '艾优尼', '斐讯', '富可视', '欧新', '美图', '宝捷讯',\n",
        "       '青橙', '果米', '波导', '诺基亚', '神舟', '糯米', '亿通', '纽曼', '唯米', '百立丰',\n",
        "       '沃普丰', '虾米', '凯利通', '贝尔丰', '至尊宝', '蓝魔', '青葱', '白米', '大可乐', '尼比鲁',\n",
        "       '康佳', '乡米', '黑米', '海尔', '优语', '维图', '米歌', '广信', 'E派', '小杨树', '糖葫芦',\n",
        "       '西米', '谷歌', '长虹', '飞利浦', '惠普', '台电', '大Q', '鲜米', '先锋', '欧奇']\n",
        "brands_in_english = ['Huawei','Xiaomi','Samsung','Meizu','Coolpad','LeEco','Lenovo','vivo','OPPO','HTC','LG','TCL','LOGO','Lovme','ZUK','PPTV','Nubia','Hisense','Amagatarai','Amoi','Obi', 'Youmi', 'Obson', 'Qiku', 'Hammer', 'Cubei Cube', 'Letters', 'Duowei', 'Desai', 'One Plus','ASUS', 'Punale', 'Yipai', 'Motorola', 'Yougo', 'Cooper', 'Mengmi', 'Aipair', 'Onda', 'Banghua', 'Lingyun', 'China Mobile', 'Noah',' Coolby ',' Aiyouni ',' Feixun ',' Focus', 'Ou Xin', 'Meitu', 'Projet News','Green Orange', 'Fruit Rice', 'Flyer', 'Nokia', 'Shenzhou', 'Glutinous Rice', 'Yi Tong', 'Newman', 'Wei Mi', 'Bai Li Feng','Wopfung', 'Shrimp', 'Kellystone', 'Bellfonte', 'Extreme Treasure', 'Blue Devils', 'Scallion', 'White Rice', 'Big Cola', 'Nibiru','Kangjia', 'Xianmi', 'Black Rice', 'Haier', 'Youyu', 'Weitu', 'Mi Ge', 'Guangxin', 'E-Pay', 'Little Poplar', ' Candied ','Simi', 'Google', 'Changhong', 'Philips', 'HP', 'Taipower', 'Big Q', 'Fresh Rice', 'Pioneer', 'Ouqi']\n",
        "\n",
        "df2 = pd.DataFrame({'phone_brand':brands_in_chinese, 'phone_brand_english':brands_in_english})"
      ],
      "execution_count": 0,
      "outputs": []
    },
    {
      "cell_type": "code",
      "metadata": {
        "id": "hnetGzW4el3w",
        "colab_type": "code",
        "colab": {
          "base_uri": "https://localhost:8080/",
          "height": 204
        },
        "outputId": "e60ed61e-d9f4-463d-bf94-259fcc5fde0a"
      },
      "source": [
        "df2.head()"
      ],
      "execution_count": 25,
      "outputs": [
        {
          "output_type": "execute_result",
          "data": {
            "text/html": [
              "<div>\n",
              "<style scoped>\n",
              "    .dataframe tbody tr th:only-of-type {\n",
              "        vertical-align: middle;\n",
              "    }\n",
              "\n",
              "    .dataframe tbody tr th {\n",
              "        vertical-align: top;\n",
              "    }\n",
              "\n",
              "    .dataframe thead th {\n",
              "        text-align: right;\n",
              "    }\n",
              "</style>\n",
              "<table border=\"1\" class=\"dataframe\">\n",
              "  <thead>\n",
              "    <tr style=\"text-align: right;\">\n",
              "      <th></th>\n",
              "      <th>phone_brand</th>\n",
              "      <th>phone_brand_english</th>\n",
              "    </tr>\n",
              "  </thead>\n",
              "  <tbody>\n",
              "    <tr>\n",
              "      <th>0</th>\n",
              "      <td>华为</td>\n",
              "      <td>Huawei</td>\n",
              "    </tr>\n",
              "    <tr>\n",
              "      <th>1</th>\n",
              "      <td>小米</td>\n",
              "      <td>Xiaomi</td>\n",
              "    </tr>\n",
              "    <tr>\n",
              "      <th>2</th>\n",
              "      <td>三星</td>\n",
              "      <td>Samsung</td>\n",
              "    </tr>\n",
              "    <tr>\n",
              "      <th>3</th>\n",
              "      <td>魅族</td>\n",
              "      <td>Meizu</td>\n",
              "    </tr>\n",
              "    <tr>\n",
              "      <th>4</th>\n",
              "      <td>酷派</td>\n",
              "      <td>Coolpad</td>\n",
              "    </tr>\n",
              "  </tbody>\n",
              "</table>\n",
              "</div>"
            ],
            "text/plain": [
              "  phone_brand phone_brand_english\n",
              "0          华为              Huawei\n",
              "1          小米              Xiaomi\n",
              "2          三星             Samsung\n",
              "3          魅族               Meizu\n",
              "4          酷派             Coolpad"
            ]
          },
          "metadata": {
            "tags": []
          },
          "execution_count": 25
        }
      ]
    },
    {
      "cell_type": "code",
      "metadata": {
        "id": "WsCI2QoheqaL",
        "colab_type": "code",
        "colab": {}
      },
      "source": [
        "phone_brand = phone_brand_device_model.merge(df2, how='left')"
      ],
      "execution_count": 0,
      "outputs": []
    },
    {
      "cell_type": "code",
      "metadata": {
        "id": "dZmxMaF2e1Cl",
        "colab_type": "code",
        "colab": {
          "base_uri": "https://localhost:8080/",
          "height": 170
        },
        "outputId": "d3cc9ae1-ebd4-4651-ab50-2f4d8084c08b"
      },
      "source": [
        "phone_brand.info()"
      ],
      "execution_count": 27,
      "outputs": [
        {
          "output_type": "stream",
          "text": [
            "<class 'pandas.core.frame.DataFrame'>\n",
            "Int64Index: 19032 entries, 0 to 19031\n",
            "Data columns (total 4 columns):\n",
            "device_id              19032 non-null int64\n",
            "phone_brand            19032 non-null object\n",
            "device_model           19032 non-null object\n",
            "phone_brand_english    19032 non-null object\n",
            "dtypes: int64(1), object(3)\n",
            "memory usage: 743.4+ KB\n"
          ],
          "name": "stdout"
        }
      ]
    },
    {
      "cell_type": "code",
      "metadata": {
        "id": "HlroiXXU_CKY",
        "colab_type": "code",
        "colab": {
          "base_uri": "https://localhost:8080/",
          "height": 224
        },
        "outputId": "00bab06f-5dfc-42f8-b301-e35c5d43c377"
      },
      "source": [
        "tele_data = events_data.merge(gender_age_train , on='device_id', how='left').merge(phone_brand, on='device_id', how='left')\n",
        "tele_data.head()"
      ],
      "execution_count": 33,
      "outputs": [
        {
          "output_type": "execute_result",
          "data": {
            "text/html": [
              "<div>\n",
              "<style scoped>\n",
              "    .dataframe tbody tr th:only-of-type {\n",
              "        vertical-align: middle;\n",
              "    }\n",
              "\n",
              "    .dataframe tbody tr th {\n",
              "        vertical-align: top;\n",
              "    }\n",
              "\n",
              "    .dataframe thead th {\n",
              "        text-align: right;\n",
              "    }\n",
              "</style>\n",
              "<table border=\"1\" class=\"dataframe\">\n",
              "  <thead>\n",
              "    <tr style=\"text-align: right;\">\n",
              "      <th></th>\n",
              "      <th>device_id</th>\n",
              "      <th>gender_x</th>\n",
              "      <th>age_x</th>\n",
              "      <th>group_x</th>\n",
              "      <th>gender_y</th>\n",
              "      <th>age_y</th>\n",
              "      <th>group_y</th>\n",
              "      <th>phone_brand</th>\n",
              "      <th>device_model</th>\n",
              "      <th>phone_brand_english</th>\n",
              "    </tr>\n",
              "  </thead>\n",
              "  <tbody>\n",
              "    <tr>\n",
              "      <th>0</th>\n",
              "      <td>-8076087639492063270</td>\n",
              "      <td>M</td>\n",
              "      <td>35</td>\n",
              "      <td>M32-38</td>\n",
              "      <td>M</td>\n",
              "      <td>35</td>\n",
              "      <td>M32-38</td>\n",
              "      <td>小米</td>\n",
              "      <td>MI 2</td>\n",
              "      <td>Xiaomi</td>\n",
              "    </tr>\n",
              "    <tr>\n",
              "      <th>1</th>\n",
              "      <td>176515041953473526</td>\n",
              "      <td>M</td>\n",
              "      <td>33</td>\n",
              "      <td>M32-38</td>\n",
              "      <td>M</td>\n",
              "      <td>33</td>\n",
              "      <td>M32-38</td>\n",
              "      <td>华为</td>\n",
              "      <td>G610S</td>\n",
              "      <td>Huawei</td>\n",
              "    </tr>\n",
              "    <tr>\n",
              "      <th>2</th>\n",
              "      <td>9032155484127182494</td>\n",
              "      <td>M</td>\n",
              "      <td>31</td>\n",
              "      <td>M29-31</td>\n",
              "      <td>M</td>\n",
              "      <td>31</td>\n",
              "      <td>M29-31</td>\n",
              "      <td>华为</td>\n",
              "      <td>Mate 7</td>\n",
              "      <td>Huawei</td>\n",
              "    </tr>\n",
              "    <tr>\n",
              "      <th>3</th>\n",
              "      <td>7477216237379271436</td>\n",
              "      <td>F</td>\n",
              "      <td>37</td>\n",
              "      <td>F33-42</td>\n",
              "      <td>F</td>\n",
              "      <td>37</td>\n",
              "      <td>F33-42</td>\n",
              "      <td>华为</td>\n",
              "      <td>荣耀6 plus</td>\n",
              "      <td>Huawei</td>\n",
              "    </tr>\n",
              "    <tr>\n",
              "      <th>4</th>\n",
              "      <td>-6876541075223249434</td>\n",
              "      <td>M</td>\n",
              "      <td>75</td>\n",
              "      <td>M39+</td>\n",
              "      <td>M</td>\n",
              "      <td>75</td>\n",
              "      <td>M39+</td>\n",
              "      <td>小米</td>\n",
              "      <td>MI 2</td>\n",
              "      <td>Xiaomi</td>\n",
              "    </tr>\n",
              "  </tbody>\n",
              "</table>\n",
              "</div>"
            ],
            "text/plain": [
              "             device_id gender_x  ...  device_model phone_brand_english\n",
              "0 -8076087639492063270        M  ...          MI 2              Xiaomi\n",
              "1   176515041953473526        M  ...         G610S              Huawei\n",
              "2  9032155484127182494        M  ...        Mate 7              Huawei\n",
              "3  7477216237379271436        F  ...      荣耀6 plus              Huawei\n",
              "4 -6876541075223249434        M  ...          MI 2              Xiaomi\n",
              "\n",
              "[5 rows x 10 columns]"
            ]
          },
          "metadata": {
            "tags": []
          },
          "execution_count": 33
        }
      ]
    },
    {
      "cell_type": "code",
      "metadata": {
        "id": "iMueESQQuXdX",
        "colab_type": "code",
        "colab": {
          "base_uri": "https://localhost:8080/",
          "height": 289
        },
        "outputId": "f7311119-90ee-47f9-a550-c5f9463a1fe1"
      },
      "source": [
        "phone_brand['phone_brand_english'].unique()"
      ],
      "execution_count": 29,
      "outputs": [
        {
          "output_type": "execute_result",
          "data": {
            "text/plain": [
              "array(['Huawei', 'Xiaomi', 'Samsung', 'LG', 'vivo', 'Obi', 'OPPO', 'TCL',\n",
              "       'Coolpad', 'HTC', 'Lenovo', 'Meizu', 'Hisense', 'Youmi', 'Obson',\n",
              "       'Amagatarai', 'Nubia', 'Amoi', 'Qiku', 'Hammer', 'Cubei Cube',\n",
              "       'Letters', 'Duowei', 'Desai', 'LeEco', 'One Plus', 'ASUS',\n",
              "       'Punale', 'Yipai', 'Motorola', 'Yougo', 'Cooper', 'Mengmi',\n",
              "       'Aipair', 'Onda', 'LOGO', 'Banghua', 'Lingyun', 'China Mobile',\n",
              "       'ZUK', 'Noah', ' Coolby ', ' Aiyouni ', ' Feixun ', 'Lovme',\n",
              "       ' Focus', 'Ou Xin', 'Meitu', 'Projet News', 'Green Orange',\n",
              "       'Fruit Rice', 'Flyer', 'Nokia', 'Shenzhou', 'Glutinous Rice',\n",
              "       'Yi Tong', 'Newman', 'Wei Mi', 'Bai Li Feng', 'Wopfung', 'Shrimp',\n",
              "       'Kellystone', 'Bellfonte', 'Extreme Treasure', 'Blue Devils',\n",
              "       'Scallion', 'White Rice', 'Big Cola', 'Nibiru', 'Kangjia',\n",
              "       'Xianmi', 'Black Rice', 'Haier', 'Youyu', 'Weitu', 'Mi Ge',\n",
              "       'Guangxin', 'E-Pay', 'Little Poplar', ' Candied ', 'Simi',\n",
              "       'Google', 'Changhong', 'Philips', 'HP', 'Taipower', 'Big Q',\n",
              "       'Fresh Rice', 'Pioneer', 'PPTV', 'Ouqi'], dtype=object)"
            ]
          },
          "metadata": {
            "tags": []
          },
          "execution_count": 29
        }
      ]
    },
    {
      "cell_type": "code",
      "metadata": {
        "id": "q-gnY9QH3FNC",
        "colab_type": "code",
        "colab": {
          "base_uri": "https://localhost:8080/",
          "height": 34
        },
        "outputId": "587184c9-3e81-486a-9b1e-3c4cabc23891"
      },
      "source": [
        "phone_brand['device_model'].nunique()"
      ],
      "execution_count": 31,
      "outputs": [
        {
          "output_type": "execute_result",
          "data": {
            "text/plain": [
              "1092"
            ]
          },
          "metadata": {
            "tags": []
          },
          "execution_count": 31
        }
      ]
    },
    {
      "cell_type": "code",
      "metadata": {
        "id": "_H1LYLVB6Xxr",
        "colab_type": "code",
        "colab": {
          "base_uri": "https://localhost:8080/",
          "height": 272
        },
        "outputId": "e4ae6489-6f7c-447a-e791-5d6efd0f39b9"
      },
      "source": [
        "tele_data.info()"
      ],
      "execution_count": 34,
      "outputs": [
        {
          "output_type": "stream",
          "text": [
            "<class 'pandas.core.frame.DataFrame'>\n",
            "Int64Index: 19032 entries, 0 to 19031\n",
            "Data columns (total 10 columns):\n",
            "device_id              19032 non-null int64\n",
            "gender_x               19032 non-null object\n",
            "age_x                  19032 non-null int64\n",
            "group_x                19032 non-null object\n",
            "gender_y               19032 non-null object\n",
            "age_y                  19032 non-null int64\n",
            "group_y                19032 non-null object\n",
            "phone_brand            19032 non-null object\n",
            "device_model           19032 non-null object\n",
            "phone_brand_english    19032 non-null object\n",
            "dtypes: int64(3), object(7)\n",
            "memory usage: 1.6+ MB\n"
          ],
          "name": "stdout"
        }
      ]
    }
  ]
}